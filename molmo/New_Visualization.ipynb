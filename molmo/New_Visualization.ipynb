{
 "cells": [
  {
   "cell_type": "code",
   "execution_count": 1,
   "id": "075d6f8c-a83b-4f6e-ac25-051fd623f07e",
   "metadata": {},
   "outputs": [
    {
     "name": "stderr",
     "output_type": "stream",
     "text": [
      "2025-02-06 12:52:22.773300: I tensorflow/core/util/port.cc:111] oneDNN custom operations are on. You may see slightly different numerical results due to floating-point round-off errors from different computation orders. To turn them off, set the environment variable `TF_ENABLE_ONEDNN_OPTS=0`.\n",
      "2025-02-06 12:52:23.169207: E tensorflow/compiler/xla/stream_executor/cuda/cuda_dnn.cc:9342] Unable to register cuDNN factory: Attempting to register factory for plugin cuDNN when one has already been registered\n",
      "2025-02-06 12:52:23.169249: E tensorflow/compiler/xla/stream_executor/cuda/cuda_fft.cc:609] Unable to register cuFFT factory: Attempting to register factory for plugin cuFFT when one has already been registered\n",
      "2025-02-06 12:52:23.169281: E tensorflow/compiler/xla/stream_executor/cuda/cuda_blas.cc:1518] Unable to register cuBLAS factory: Attempting to register factory for plugin cuBLAS when one has already been registered\n",
      "2025-02-06 12:52:23.186281: I tensorflow/core/platform/cpu_feature_guard.cc:182] This TensorFlow binary is optimized to use available CPU instructions in performance-critical operations.\n",
      "To enable the following instructions: AVX2 AVX512F AVX512_VNNI FMA, in other operations, rebuild TensorFlow with the appropriate compiler flags.\n",
      "2025-02-06 12:52:25.022756: W tensorflow/compiler/tf2tensorrt/utils/py_utils.cc:38] TF-TRT Warning: Could not find TensorRT\n"
     ]
    }
   ],
   "source": [
    "import sys\n",
    "from pathlib import Path\n",
    "parent_dir = Path.cwd().parent\n",
    "sys.path.append(str(parent_dir))\n",
    "\n",
    "from PIL import Image\n",
    "import sys\n",
    "from pathlib import Path\n",
    "from PIL import Image\n",
    "import torch\n",
    "from molmo_utils import load_model, do_inference, get_coordinates, calculate_probability_of_coordinates\n",
    "from utils import extract_all, plot_scatter, calculate_normalized_euclidian_distance, calculate_spread"
   ]
  },
  {
   "cell_type": "code",
   "execution_count": 2,
   "id": "56e7be2b-890f-464a-932d-fb6685d8d90d",
   "metadata": {},
   "outputs": [
    {
     "data": {
      "application/vnd.jupyter.widget-view+json": {
       "model_id": "b2de969d74114bc1b78311d33a591e6a",
       "version_major": 2,
       "version_minor": 0
      },
      "text/plain": [
       "Loading checkpoint shards:   0%|          | 0/7 [00:00<?, ?it/s]"
      ]
     },
     "metadata": {},
     "output_type": "display_data"
    }
   ],
   "source": [
    "model_name = 'allenai/Molmo-7B-D-0924'\n",
    "model, processor = load_model(model_name)"
   ]
  },
  {
   "cell_type": "code",
   "execution_count": 10,
   "id": "74120e38-df39-4aee-92ea-d8927bc05bee",
   "metadata": {},
   "outputs": [],
   "source": [
    "def calculate_spread2(distances, width, height):\n",
    "    max_dist = 0\n",
    "    len_coords = len(distances)\n",
    "    \n",
    "    for i in range(len_coords):\n",
    "        for j in range(len_coords):\n",
    "            spread = calculate_normalized_euclidian_distance(coordinates[i], coordinates[j], width, height)\n",
    "            if (spread > max_dist):\n",
    "                max_dist = spread\n",
    "    return max_dist"
   ]
  },
  {
   "cell_type": "code",
   "execution_count": 13,
   "id": "fd3e8ba0-222d-4c5e-934f-270380eca764",
   "metadata": {},
   "outputs": [],
   "source": [
    "import numpy as np\n",
    "from scipy.spatial import ConvexHull, distance\n",
    "def calculate_spread2(points, width, height):\n",
    "    \"\"\"\n",
    "    Computes the maximum Euclidean distance between two farthest points in a given list.\n",
    "    :param points: List or numpy array of (x, y) coordinates.\n",
    "    :return: Maximum Euclidean distance.\n",
    "    \"\"\"\n",
    "    points = np.array(points)\n",
    "    # Compute convex hull\n",
    "    hull = ConvexHull(points)\n",
    "    hull_points = points[hull.vertices]\n",
    "    # Compute pairwise distances only among hull points\n",
    "    max_dist = 0\n",
    "    for i in range(len(hull_points)):\n",
    "        for j in range(i + 1, len(hull_points)):\n",
    "            max_dist = max(max_dist, calculate_normalized_euclidian_distance(hull_points[i], hull_points[j], width, height))\n",
    "    return max_dist"
   ]
  },
  {
   "cell_type": "code",
   "execution_count": 22,
   "id": "ced092ae-f640-4338-ab70-c2fd5c3a71b0",
   "metadata": {},
   "outputs": [],
   "source": [
    "def run_experiment(path_to_experiments, prompt_starts, prompt_ends, runs_per_task, temperature):\n",
    "    tasks, images, ground_truths, _ = extract_all(path_to_experiments)\n",
    "    softmax_fn = torch.nn.Softmax(dim=-1)\n",
    "\n",
    "    distances = []\n",
    "    spreads = []\n",
    "\n",
    "    distances_what = []\n",
    "    distances_where = []\n",
    "\n",
    "    spreads_what = []\n",
    "    spreads_where = []\n",
    "    \n",
    "    for i in range(len(tasks)):\n",
    "        task = tasks[i]\n",
    "        ground_truth = ground_truths[i]\n",
    "        prompt_what = prompt_starts[0] + task + prompt_ends[0]\n",
    "        prompt_where = prompt_starts[1] + task + prompt_ends[1]\n",
    "        print(f\"Task: {task}\")\n",
    "    \n",
    "        norm_dist_what = []\n",
    "        norm_dist_where = []\n",
    "\n",
    "        coord_what = []\n",
    "        coord_where = []\n",
    "\n",
    "        coordinates_of_task = []\n",
    "        \n",
    "        with Image.open(images[i]) as image:\n",
    "            image_width = image.width\n",
    "            image_height = image.height\n",
    "    \n",
    "            prompts = [prompt_what]\n",
    "            if (len(ground_truth) == 2):\n",
    "                prompts.append(prompt_where)\n",
    "    \n",
    "            for k in range(len(prompts)):\n",
    "                for j in range(runs_per_task):\n",
    "                    output_text, output, inputs = do_inference(image, prompts[k], model, processor, temperature)\n",
    "                    \n",
    "                    coordinates = get_coordinates(output_text, image_width, image_height)\n",
    "                    if len(coordinates) == 1:\n",
    "                        norm_dist = calculate_normalized_euclidian_distance(coordinates[0], ground_truth[k], image_width, image_height)\n",
    "\n",
    "                        if (k == 0):\n",
    "                            norm_dist_what.append(norm_dist)\n",
    "                            coord_what.append(coordinates)\n",
    "                        else:\n",
    "                            norm_dist_where.append(norm_dist)\n",
    "                            coord_where.append(coordinates)\n",
    "\n",
    "    \n",
    "            # Per task output\n",
    "            all_distances = norm_dist_what + norm_dist_where\n",
    "            mean = sum(all_distances) / len(all_distances)\n",
    "            distances.append(mean)\n",
    "\n",
    "            all_coordintaes = coord_what + coord_where\n",
    "            max_dist = calculate_spread2(all_coordintaes, image_width, image_height)\n",
    "            spreads.append(max_dist)\n",
    "            \n",
    "    \n",
    "            mean_what = sum(norm_dist_what) / len(norm_dist_what)\n",
    "            distances_what.append(mean_what)\n",
    "            mean_where = sum(norm_dist_where) / len(norm_dist_where)\n",
    "            distances_where.append(mean_where)\n",
    "    \n",
    "            max_dist_what = calculate_spread2(coord_what, image_width, image_height)\n",
    "            spreads_what.append(max_dist_what)\n",
    "    \n",
    "            max_dist_where = calculate_spread2(coord_where, image_width, image_height)\n",
    "            spreads_where.append(max_dist_where)\n",
    "    \n",
    "  \n",
    "\n",
    "    plot_scatter(tasks, spreads, distances, f\"Scatterplot for every task\")\n",
    "    plot_scatter([\"Object to move\", \"Where to place\"], [spreads_what, spreads_where], [distances_what, distances_where], f\"Scatterplot for difference between object and where to place\")"
   ]
  },
  {
   "cell_type": "code",
   "execution_count": null,
   "id": "9693dfca-3b28-4c14-9a77-bbddb6680501",
   "metadata": {},
   "outputs": [
    {
     "name": "stdout",
     "output_type": "stream",
     "text": [
      "Task: Place the pot to the right of the blue fork.\n"
     ]
    }
   ],
   "source": [
    "experiment_path = \"../data/base_experiments_fast\"\n",
    "num_runs = 3\n",
    "temperature = 0.6\n",
    "\n",
    "prompt_starts = [\"You are the robot in the picture. Your mission it to guide and support the user in its task to: \", \"You are the robot in the picture. Your mission it to guide and support the user in its task to: \"]\n",
    "prompt_ends = [\" For that you have to point to the relevant object in the picture. Your output format should be like this: (x1, y1) with (x1, y1) beeing the coordinates of the object to move. Dont output anything else.\", \" For that you have to point to the place in the picture where the object has to be moved to. Your output format should be like this: (x1, y1) with (x1, y1) beeing the coordinates of the place where the object has to be moved to. Dont output anything else.\"]\n",
    "\n",
    "run_experiment(experiment_path, prompt_starts, prompt_ends, num_runs, temperature)"
   ]
  },
  {
   "cell_type": "code",
   "execution_count": null,
   "id": "52aec7b0-6711-4dc6-a31d-9ddf945a8a68",
   "metadata": {},
   "outputs": [],
   "source": []
  }
 ],
 "metadata": {
  "kernelspec": {
   "display_name": "Python 3 (ipykernel)",
   "language": "python",
   "name": "python3"
  },
  "language_info": {
   "codemirror_mode": {
    "name": "ipython",
    "version": 3
   },
   "file_extension": ".py",
   "mimetype": "text/x-python",
   "name": "python",
   "nbconvert_exporter": "python",
   "pygments_lexer": "ipython3",
   "version": "3.9.16"
  }
 },
 "nbformat": 4,
 "nbformat_minor": 5
}
